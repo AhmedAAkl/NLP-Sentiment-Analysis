{
 "cells": [
  {
   "cell_type": "markdown",
   "metadata": {
    "id": "H9_QjeV_RfMz"
   },
   "source": [
    "#  Sentiment Analysis with TF-IDF and Logistic Regression"
   ]
  },
  {
   "cell_type": "markdown",
   "metadata": {
    "colab": {
     "base_uri": "https://localhost:8080/"
    },
    "id": "rLxcOlq-RqjM",
    "outputId": "17b6e20c-edda-48cc-8d66-962a5454083e"
   },
   "source": [
    "**Sentiment analysis** (or opinion mining) is a natural language processing technique used to determine whether data is positive, negative or neutral.\n",
    "\n",
    "**Sentiment analysis** is often performed on textual data to help businesses monitor brand and product sentiment in customer feedback, and understand customer needs."
   ]
  },
  {
   "cell_type": "code",
   "execution_count": null,
   "metadata": {
    "id": "ikrdHzzLSRZw"
   },
   "outputs": [],
   "source": []
  },
  {
   "cell_type": "markdown",
   "metadata": {
    "id": "1t5pF6lXRfM1"
   },
   "source": [
    "## Data Exploration"
   ]
  },
  {
   "cell_type": "code",
   "execution_count": 3,
   "metadata": {
    "colab": {
     "base_uri": "https://localhost:8080/",
     "height": 289
    },
    "id": "2IzOCqIWRfM2",
    "outputId": "4bf94434-90ff-4620-bb9a-5b56053641fb"
   },
   "outputs": [
    {
     "data": {
      "text/html": [
       "<div>\n",
       "<style scoped>\n",
       "    .dataframe tbody tr th:only-of-type {\n",
       "        vertical-align: middle;\n",
       "    }\n",
       "\n",
       "    .dataframe tbody tr th {\n",
       "        vertical-align: top;\n",
       "    }\n",
       "\n",
       "    .dataframe thead th {\n",
       "        text-align: right;\n",
       "    }\n",
       "</style>\n",
       "<table border=\"1\" class=\"dataframe\">\n",
       "  <thead>\n",
       "    <tr style=\"text-align: right;\">\n",
       "      <th></th>\n",
       "      <th>tweet_id</th>\n",
       "      <th>airline_sentiment</th>\n",
       "      <th>name</th>\n",
       "      <th>text</th>\n",
       "      <th>tweet_coord</th>\n",
       "      <th>tweet_created</th>\n",
       "      <th>tweet_location</th>\n",
       "      <th>user_timezone</th>\n",
       "    </tr>\n",
       "  </thead>\n",
       "  <tbody>\n",
       "    <tr>\n",
       "      <th>4197</th>\n",
       "      <td>5.677860e+17</td>\n",
       "      <td>negative</td>\n",
       "      <td>Maslowchild</td>\n",
       "      <td>@united Thank you. Yes, I was hoping to speak ...</td>\n",
       "      <td>NaN</td>\n",
       "      <td>2/17/2015 12:42</td>\n",
       "      <td>West Coast of America</td>\n",
       "      <td>Alaska</td>\n",
       "    </tr>\n",
       "    <tr>\n",
       "      <th>3435</th>\n",
       "      <td>5.684420e+17</td>\n",
       "      <td>negative</td>\n",
       "      <td>uncmnwellness</td>\n",
       "      <td>@united So publicly you asked for details on m...</td>\n",
       "      <td>NaN</td>\n",
       "      <td>2/19/2015 8:08</td>\n",
       "      <td>Ventura, California</td>\n",
       "      <td>Pacific Time (US &amp; Canada)</td>\n",
       "    </tr>\n",
       "    <tr>\n",
       "      <th>14011</th>\n",
       "      <td>5.696780e+17</td>\n",
       "      <td>neutral</td>\n",
       "      <td>papenfold</td>\n",
       "      <td>@AmericanAir DM sent. Answer me please</td>\n",
       "      <td>[35.23776431, -80.92233988]</td>\n",
       "      <td>2/22/2015 17:59</td>\n",
       "      <td>Guatemala.</td>\n",
       "      <td>Mountain Time (US &amp; Canada)</td>\n",
       "    </tr>\n",
       "    <tr>\n",
       "      <th>11891</th>\n",
       "      <td>5.703060e+17</td>\n",
       "      <td>neutral</td>\n",
       "      <td>sammy575</td>\n",
       "      <td>@AmericanAir is the new 9:45 time confirmed or...</td>\n",
       "      <td>NaN</td>\n",
       "      <td>2/24/2015 11:37</td>\n",
       "      <td>New York</td>\n",
       "      <td>Eastern Time (US &amp; Canada)</td>\n",
       "    </tr>\n",
       "    <tr>\n",
       "      <th>10333</th>\n",
       "      <td>5.693660e+17</td>\n",
       "      <td>negative</td>\n",
       "      <td>PhilHagen</td>\n",
       "      <td>@USAirways just hit 4hrs.  what is typical wai...</td>\n",
       "      <td>NaN</td>\n",
       "      <td>2/21/2015 21:18</td>\n",
       "      <td>Lewes, DE, USA</td>\n",
       "      <td>Eastern Time (US &amp; Canada)</td>\n",
       "    </tr>\n",
       "  </tbody>\n",
       "</table>\n",
       "</div>"
      ],
      "text/plain": [
       "           tweet_id  ...                user_timezone\n",
       "4197   5.677860e+17  ...                       Alaska\n",
       "3435   5.684420e+17  ...   Pacific Time (US & Canada)\n",
       "14011  5.696780e+17  ...  Mountain Time (US & Canada)\n",
       "11891  5.703060e+17  ...   Eastern Time (US & Canada)\n",
       "10333  5.693660e+17  ...   Eastern Time (US & Canada)\n",
       "\n",
       "[5 rows x 8 columns]"
      ]
     },
     "execution_count": 3,
     "metadata": {
      "tags": []
     },
     "output_type": "execute_result"
    }
   ],
   "source": [
    "import pandas as pd\n",
    "import numpy as np\n",
    "\n",
    "data = pd.read_csv(\"drive/implementation/orange_MLA/Tweets/Tweets.csv\")\n",
    "data = data.reindex(np.random.permutation(data.index))\n",
    "data.head(5)"
   ]
  },
  {
   "cell_type": "code",
   "execution_count": 4,
   "metadata": {
    "colab": {
     "base_uri": "https://localhost:8080/"
    },
    "id": "hXbOexDXRfNB",
    "outputId": "cbe2c5f6-8879-47d5-c5ec-42b78e7d7476"
   },
   "outputs": [
    {
     "data": {
      "text/plain": [
       "(14640, 8)"
      ]
     },
     "execution_count": 4,
     "metadata": {
      "tags": []
     },
     "output_type": "execute_result"
    }
   ],
   "source": [
    "data.shape"
   ]
  },
  {
   "cell_type": "code",
   "execution_count": 5,
   "metadata": {
    "colab": {
     "base_uri": "https://localhost:8080/"
    },
    "id": "-s-tiQQTRfNF",
    "outputId": "0e01e060-2d38-4171-8596-c7adb0a6a508"
   },
   "outputs": [
    {
     "data": {
      "text/plain": [
       "tweet_id             0.000000\n",
       "airline_sentiment    0.000000\n",
       "name                 0.000000\n",
       "text                 0.000000\n",
       "tweet_coord          0.930396\n",
       "tweet_created        0.000000\n",
       "tweet_location       0.323292\n",
       "user_timezone        0.329235\n",
       "dtype: float64"
      ]
     },
     "execution_count": 5,
     "metadata": {
      "tags": []
     },
     "output_type": "execute_result"
    }
   ],
   "source": [
    "#looking for null values\n",
    "(len(data)-data.count())/len(data)"
   ]
  },
  {
   "cell_type": "code",
   "execution_count": 6,
   "metadata": {
    "colab": {
     "base_uri": "https://localhost:8080/"
    },
    "id": "qxSxPlTbRfNK",
    "outputId": "ec7bff91-4114-4268-ae66-da9db8ee91e3"
   },
   "outputs": [
    {
     "data": {
      "text/plain": [
       "airline_sentiment\n",
       "negative    9178\n",
       "neutral     3099\n",
       "positive    2363\n",
       "dtype: int64"
      ]
     },
     "execution_count": 6,
     "metadata": {
      "tags": []
     },
     "output_type": "execute_result"
    }
   ],
   "source": [
    "# grouping the data\n",
    "data.groupby(data['airline_sentiment']).size()"
   ]
  },
  {
   "cell_type": "code",
   "execution_count": 7,
   "metadata": {
    "colab": {
     "base_uri": "https://localhost:8080/",
     "height": 280
    },
    "id": "sR8SHmN-RfNO",
    "outputId": "cf474131-760d-47e3-a0fc-0005e83d75a4"
   },
   "outputs": [
    {
     "data": {
      "image/png": "[encoded data removed]",
      "text/plain": [
       "<Figure size 432x288 with 1 Axes>"
      ]
     },
     "metadata": {
      "needs_background": "light",
      "tags": []
     },
     "output_type": "display_data"
    }
   ],
   "source": [
    "import seaborn as sns\n",
    "import matplotlib.pyplot as plt\n",
    "\n",
    "sns.countplot(x='airline_sentiment',data= data, order=['negative','neutral','positive'])\n",
    "plt.show()"
   ]
  },
  {
   "cell_type": "markdown",
   "metadata": {
    "id": "buDjZg-MRfNT"
   },
   "source": [
    "we can see that the data classes are imbalanced."
   ]
  },
  {
   "cell_type": "markdown",
   "metadata": {
    "id": "h1_eE183RfNU"
   },
   "source": [
    "## Preprocessing step"
   ]
  },
  {
   "cell_type": "code",
   "execution_count": 9,
   "metadata": {
    "id": "MePbXdwwRfNV"
   },
   "outputs": [],
   "source": [
    "import re\n",
    "from nltk.corpus import stopwords\n",
    "from sklearn.feature_extraction.text import TfidfVectorizer"
   ]
  },
  {
   "cell_type": "code",
   "execution_count": 10,
   "metadata": {
    "colab": {
     "base_uri": "https://localhost:8080/",
     "height": 204
    },
    "id": "d-qwNZ3gRfNX",
    "outputId": "eaeca885-8f6e-4dab-8599-538fffe27102"
   },
   "outputs": [
    {
     "data": {
      "text/html": [
       "<div>\n",
       "<style scoped>\n",
       "    .dataframe tbody tr th:only-of-type {\n",
       "        vertical-align: middle;\n",
       "    }\n",
       "\n",
       "    .dataframe tbody tr th {\n",
       "        vertical-align: top;\n",
       "    }\n",
       "\n",
       "    .dataframe thead th {\n",
       "        text-align: right;\n",
       "    }\n",
       "</style>\n",
       "<table border=\"1\" class=\"dataframe\">\n",
       "  <thead>\n",
       "    <tr style=\"text-align: right;\">\n",
       "      <th></th>\n",
       "      <th>text</th>\n",
       "      <th>airline_sentiment</th>\n",
       "    </tr>\n",
       "  </thead>\n",
       "  <tbody>\n",
       "    <tr>\n",
       "      <th>4197</th>\n",
       "      <td>@united Thank you. Yes, I was hoping to speak ...</td>\n",
       "      <td>negative</td>\n",
       "    </tr>\n",
       "    <tr>\n",
       "      <th>3435</th>\n",
       "      <td>@united So publicly you asked for details on m...</td>\n",
       "      <td>negative</td>\n",
       "    </tr>\n",
       "    <tr>\n",
       "      <th>14011</th>\n",
       "      <td>@AmericanAir DM sent. Answer me please</td>\n",
       "      <td>neutral</td>\n",
       "    </tr>\n",
       "    <tr>\n",
       "      <th>11891</th>\n",
       "      <td>@AmericanAir is the new 9:45 time confirmed or...</td>\n",
       "      <td>neutral</td>\n",
       "    </tr>\n",
       "    <tr>\n",
       "      <th>10333</th>\n",
       "      <td>@USAirways just hit 4hrs.  what is typical wai...</td>\n",
       "      <td>negative</td>\n",
       "    </tr>\n",
       "  </tbody>\n",
       "</table>\n",
       "</div>"
      ],
      "text/plain": [
       "                                                    text airline_sentiment\n",
       "4197   @united Thank you. Yes, I was hoping to speak ...          negative\n",
       "3435   @united So publicly you asked for details on m...          negative\n",
       "14011             @AmericanAir DM sent. Answer me please           neutral\n",
       "11891  @AmericanAir is the new 9:45 time confirmed or...           neutral\n",
       "10333  @USAirways just hit 4hrs.  what is typical wai...          negative"
      ]
     },
     "execution_count": 10,
     "metadata": {
      "tags": []
     },
     "output_type": "execute_result"
    }
   ],
   "source": [
    "data = data[[\"text\",\"airline_sentiment\"]]\n",
    "data.head(5)"
   ]
  },
  {
   "cell_type": "markdown",
   "metadata": {
    "id": "YOuMkfrkRfNb"
   },
   "source": [
    "# Data Preparation"
   ]
  },
  {
   "cell_type": "code",
   "execution_count": 14,
   "metadata": {
    "colab": {
     "base_uri": "https://localhost:8080/"
    },
    "id": "anrmqaQuRfNm",
    "outputId": "084110dc-4820-46df-fef9-cac5888d2ec8"
   },
   "outputs": [
    {
     "name": "stdout",
     "output_type": "stream",
     "text": [
      "[nltk_data] Downloading package stopwords to /root/nltk_data...\n",
      "[nltk_data]   Package stopwords is already up-to-date!\n"
     ]
    },
    {
     "data": {
      "text/plain": [
       "True"
      ]
     },
     "execution_count": 14,
     "metadata": {
      "tags": []
     },
     "output_type": "execute_result"
    }
   ],
   "source": [
    "import nltk\n",
    "nltk.download('stopwords')"
   ]
  },
  {
   "cell_type": "markdown",
   "metadata": {
    "id": "MOwHHPSHRfNc"
   },
   "source": [
    "### Data Cleaning"
   ]
  },
  {
   "cell_type": "markdown",
   "metadata": {
    "id": "RH0L54kZRfNd"
   },
   "source": [
    "Cleaning the dataset is the most import ant step to provide the ML model with the most important features:\n",
    "\n",
    "1- we start the cleaning process by removing the stop word, as they do not have any value for predicting the sentiment. \n",
    "\n",
    "2- Also, there are special characters(@) to mention different airlines companies, this @ character will be removed and the mentioned company so that the classifier can be used for other companies.\n",
    "\n",
    "3- There are some words which might indicate a certain sentiment are kept via a whitelist such as not, n't, no.\n",
    "At last we have to remove the punctuations characters\n",
    "\n",
    "4- Remove special characters e.g. /, : + etc."
   ]
  },
  {
   "cell_type": "code",
   "execution_count": 15,
   "metadata": {
    "id": "Zmyh-fsI3joE"
   },
   "outputs": [],
   "source": [
    "\n",
    "#remove link starts with https\n",
    "data['text'] = data['text'].map(lambda x:re.sub('http.*','',str(x)))\n",
    "#removing data and time (numeric values)\n",
    "data['text'] = data['text'].map(lambda x:re.sub('[0-9]','',str(x)))\n",
    "\n",
    "#removing special characters\n",
    "data['text'] = data['text'].map(lambda x:re.sub(\"[#|*|$,|:|\\\\|&?!./()+]\",' ',str(x)))"
   ]
  },
  {
   "cell_type": "code",
   "execution_count": 16,
   "metadata": {
    "colab": {
     "base_uri": "https://localhost:8080/",
     "height": 204
    },
    "id": "Q4jz_uOb3rLp",
    "outputId": "433f88cf-9515-4fcd-b039-a880ce0f90dc"
   },
   "outputs": [
    {
     "data": {
      "text/html": [
       "<div>\n",
       "<style scoped>\n",
       "    .dataframe tbody tr th:only-of-type {\n",
       "        vertical-align: middle;\n",
       "    }\n",
       "\n",
       "    .dataframe tbody tr th {\n",
       "        vertical-align: top;\n",
       "    }\n",
       "\n",
       "    .dataframe thead th {\n",
       "        text-align: right;\n",
       "    }\n",
       "</style>\n",
       "<table border=\"1\" class=\"dataframe\">\n",
       "  <thead>\n",
       "    <tr style=\"text-align: right;\">\n",
       "      <th></th>\n",
       "      <th>text</th>\n",
       "      <th>airline_sentiment</th>\n",
       "    </tr>\n",
       "  </thead>\n",
       "  <tbody>\n",
       "    <tr>\n",
       "      <th>4197</th>\n",
       "      <td>@united Thank you  Yes  I was hoping to speak ...</td>\n",
       "      <td>negative</td>\n",
       "    </tr>\n",
       "    <tr>\n",
       "      <th>3435</th>\n",
       "      <td>@united So publicly you asked for details on m...</td>\n",
       "      <td>negative</td>\n",
       "    </tr>\n",
       "    <tr>\n",
       "      <th>14011</th>\n",
       "      <td>@AmericanAir DM sent  Answer me please</td>\n",
       "      <td>neutral</td>\n",
       "    </tr>\n",
       "    <tr>\n",
       "      <th>11891</th>\n",
       "      <td>@AmericanAir is the new   time confirmed or it...</td>\n",
       "      <td>neutral</td>\n",
       "    </tr>\n",
       "    <tr>\n",
       "      <th>10333</th>\n",
       "      <td>@USAirways just hit hrs   what is typical wait...</td>\n",
       "      <td>negative</td>\n",
       "    </tr>\n",
       "  </tbody>\n",
       "</table>\n",
       "</div>"
      ],
      "text/plain": [
       "                                                    text airline_sentiment\n",
       "4197   @united Thank you  Yes  I was hoping to speak ...          negative\n",
       "3435   @united So publicly you asked for details on m...          negative\n",
       "14011             @AmericanAir DM sent  Answer me please           neutral\n",
       "11891  @AmericanAir is the new   time confirmed or it...           neutral\n",
       "10333  @USAirways just hit hrs   what is typical wait...          negative"
      ]
     },
     "execution_count": 16,
     "metadata": {
      "tags": []
     },
     "output_type": "execute_result"
    }
   ],
   "source": [
    "data.head()"
   ]
  },
  {
   "cell_type": "code",
   "execution_count": 16,
   "metadata": {
    "id": "sxod7VXmXLYJ"
   },
   "outputs": [],
   "source": []
  },
  {
   "cell_type": "markdown",
   "metadata": {
    "id": "4Hq4-_ewMGuP"
   },
   "source": [
    "Clean the data from all the stop words (the words that are repeated frequently in English), except the words that invert the meaning (whitelist)"
   ]
  },
  {
   "cell_type": "code",
   "execution_count": 17,
   "metadata": {
    "id": "TmxxkLkJRfNe"
   },
   "outputs": [],
   "source": [
    "from nltk.corpus import stopwords\n",
    "import string\n",
    "\n",
    "def clean_data(input_data):\n",
    "    stopwords_list = stopwords.words('english')\n",
    "    whitelist = ['not',\"n't\",\"no\"]    \n",
    "    words = input_data.split()\n",
    "    clean_words = [word for word in words if(word not in stopwords_list or word in whitelist) and len(word)>1]\n",
    "    return \" \".join(clean_words)\n",
    "\n",
    "\n",
    "# this function removes the airline company name after the @ character\n",
    "def remove_mentions(input_text):\n",
    "        return re.sub(r'@\\w+', '', input_text)\n"
   ]
  },
  {
   "cell_type": "code",
   "execution_count": 18,
   "metadata": {
    "colab": {
     "base_uri": "https://localhost:8080/",
     "height": 204
    },
    "id": "NcKEKg-vRfNq",
    "outputId": "b000877c-2777-4d5d-ec12-bf0b871c22bf"
   },
   "outputs": [
    {
     "data": {
      "text/html": [
       "<div>\n",
       "<style scoped>\n",
       "    .dataframe tbody tr th:only-of-type {\n",
       "        vertical-align: middle;\n",
       "    }\n",
       "\n",
       "    .dataframe tbody tr th {\n",
       "        vertical-align: top;\n",
       "    }\n",
       "\n",
       "    .dataframe thead th {\n",
       "        text-align: right;\n",
       "    }\n",
       "</style>\n",
       "<table border=\"1\" class=\"dataframe\">\n",
       "  <thead>\n",
       "    <tr style=\"text-align: right;\">\n",
       "      <th></th>\n",
       "      <th>text</th>\n",
       "      <th>airline_sentiment</th>\n",
       "    </tr>\n",
       "  </thead>\n",
       "  <tbody>\n",
       "    <tr>\n",
       "      <th>4197</th>\n",
       "      <td>Thank Yes hoping speak someone directly appre...</td>\n",
       "      <td>negative</td>\n",
       "    </tr>\n",
       "    <tr>\n",
       "      <th>3435</th>\n",
       "      <td>So publicly asked details flt Sent DM like as...</td>\n",
       "      <td>negative</td>\n",
       "    </tr>\n",
       "    <tr>\n",
       "      <th>14011</th>\n",
       "      <td>DM sent Answer please</td>\n",
       "      <td>neutral</td>\n",
       "    </tr>\n",
       "    <tr>\n",
       "      <th>11891</th>\n",
       "      <td>new time confirmed may get Cancelled Flightle...</td>\n",
       "      <td>neutral</td>\n",
       "    </tr>\n",
       "    <tr>\n",
       "      <th>10333</th>\n",
       "      <td>hit hrs typical wait time right drive hm airp...</td>\n",
       "      <td>negative</td>\n",
       "    </tr>\n",
       "  </tbody>\n",
       "</table>\n",
       "</div>"
      ],
      "text/plain": [
       "                                                    text airline_sentiment\n",
       "4197    Thank Yes hoping speak someone directly appre...          negative\n",
       "3435    So publicly asked details flt Sent DM like as...          negative\n",
       "14011                              DM sent Answer please           neutral\n",
       "11891   new time confirmed may get Cancelled Flightle...           neutral\n",
       "10333   hit hrs typical wait time right drive hm airp...          negative"
      ]
     },
     "execution_count": 18,
     "metadata": {
      "tags": []
     },
     "output_type": "execute_result"
    }
   ],
   "source": [
    "data.text = data.text.apply(clean_data).apply(remove_mentions)\n",
    "data.head()"
   ]
  },
  {
   "cell_type": "markdown",
   "metadata": {
    "id": "TH7a-APpMg4a"
   },
   "source": [
    "**Splitting the data into training and testing datasets**\n",
    "\n",
    "The train-test split procedure is used to estimate the performance of machine learning algorithms when they are used to make predictions on data not used to train the model.\n"
   ]
  },
  {
   "cell_type": "code",
   "execution_count": 23,
   "metadata": {
    "colab": {
     "base_uri": "https://localhost:8080/"
    },
    "id": "OiG0t61qRfN4",
    "outputId": "b6e79f5d-c013-4578-d76c-99a5bc3be25c"
   },
   "outputs": [
    {
     "name": "stdout",
     "output_type": "stream",
     "text": [
      "# Train data samples: 11712\n",
      "# Test data samples: 2928\n"
     ]
    }
   ],
   "source": [
    "from sklearn.model_selection import train_test_split\n",
    "\n",
    "X_train, X_test, y_train, y_test = train_test_split(data.text, data.airline_sentiment,test_size=0.2)\n",
    "print('# Train data samples:', X_train.shape[0])\n",
    "print('# Test data samples:', X_test.shape[0])\n",
    "assert X_train.shape[0] == y_train.shape[0]\n",
    "assert X_test.shape[0] == y_test.shape[0]"
   ]
  },
  {
   "cell_type": "code",
   "execution_count": 24,
   "metadata": {
    "colab": {
     "base_uri": "https://localhost:8080/"
    },
    "id": "PjrKlpGrRfNy",
    "outputId": "68b6e353-89d7-4990-9102-8b14ea059df0"
   },
   "outputs": [
    {
     "name": "stdout",
     "output_type": "stream",
     "text": [
      "11712\n",
      " thanks canned reply\n"
     ]
    }
   ],
   "source": [
    "X_train = list(X_train)\n",
    "X_test = list(X_test)\n",
    "print(len(X_train))\n",
    "print(X_train[0])"
   ]
  },
  {
   "cell_type": "code",
   "execution_count": 41,
   "metadata": {
    "colab": {
     "base_uri": "https://localhost:8080/"
    },
    "id": "7yhzoTSiRfN8",
    "outputId": "d520d96b-aec8-4d83-dfc3-741ad4e038bb"
   },
   "outputs": [
    {
     "name": "stdout",
     "output_type": "stream",
     "text": [
      "(2928, 79629)\n",
      "(11712, 79629)\n",
      "<class 'scipy.sparse.csr.csr_matrix'>\n"
     ]
    }
   ],
   "source": [
    "from sklearn.feature_extraction.text import TfidfVectorizer\n",
    "\n",
    "# use tfidf vectorizer to transform the corpus\n",
    "tfvectorizer = TfidfVectorizer(ngram_range=(1,2), lowercase = True).fit(X_train)\n",
    "X_train_features = tfvectorizer.transform(X_train)\n",
    "X_test_features = tfvectorizer.transform(X_test)\n",
    "\n",
    "\n",
    "#preparing target variable\n",
    "y_train_labels = y_train.map({'neutral':1,'negative':2,'positive':0})\n",
    "y_test_labels = y_test.map({'neutral':1,'negative':2,'positive':0})\n",
    "\n",
    "print(X_test_features.shape)\n",
    "print(X_train_features.shape)\n",
    "print(type(X_test_features))"
   ]
  },
  {
   "cell_type": "code",
   "execution_count": 41,
   "metadata": {
    "id": "URdzHPfWNGnU"
   },
   "outputs": [],
   "source": []
  },
  {
   "cell_type": "markdown",
   "metadata": {
    "id": "6gz82wHXPf9R"
   },
   "source": [
    "## Import and train a logistic regression model"
   ]
  },
  {
   "cell_type": "code",
   "execution_count": 42,
   "metadata": {
    "colab": {
     "base_uri": "https://localhost:8080/"
    },
    "id": "ap3eJDQ0RfOC",
    "outputId": "e524004c-3897-497a-c2e2-54b9e92d9ac2"
   },
   "outputs": [
    {
     "name": "stdout",
     "output_type": "stream",
     "text": [
      "Logistic Regression Model Accuray:  0.7834699453551912\n"
     ]
    }
   ],
   "source": [
    "#training with Logistic Regression\n",
    "from sklearn.linear_model import LogisticRegression\n",
    "from sklearn.model_selection import cross_val_score\n",
    "from sklearn.metrics import accuracy_score\n",
    "\n",
    "\n",
    "clf = LogisticRegression(class_weight = \"balanced\", max_iter=500, random_state=22)\n",
    "clf.fit(X_train_features, y_train_labels)\n",
    "predicted = clf.predict(X_test_features)\n",
    "\n",
    "\n",
    "acc = accuracy_score(predicted,y_test_labels)\n",
    "print(\"Logistic Regression Model Accuray: \", acc)"
   ]
  },
  {
   "cell_type": "markdown",
   "metadata": {
    "id": "NIrSi1AyPqF2"
   },
   "source": [
    "###  Evaluate the model performance with various techniques"
   ]
  },
  {
   "cell_type": "code",
   "execution_count": 43,
   "metadata": {
    "colab": {
     "base_uri": "https://localhost:8080/"
    },
    "id": "xzzWFy-l-43T",
    "outputId": "fc922ea0-d509-4fa0-aeb2-90094aa433f1"
   },
   "outputs": [
    {
     "name": "stdout",
     "output_type": "stream",
     "text": [
      "0.7834699453551912\n",
      "0.7809032824609087\n",
      "0.7820407492917065\n"
     ]
    }
   ],
   "source": [
    "from sklearn.metrics import recall_score, precision_score, f1_score\n",
    "\n",
    "R_score = recall_score(predicted,y_test_hot_vector,average='weighted')\n",
    "P_score = precision_score(predicted,y_test_hot_vector,average='weighted')\n",
    "f1_score = f1_score(predicted,y_test_hot_vector,average='weighted')\n",
    "\n",
    "print(R_score)\n",
    "print(P_score)\n",
    "print(f1_score)"
   ]
  }
 ],
 "metadata": {
  "accelerator": "GPU",
  "colab": {
   "collapsed_sections": [],
   "name": "sentiment_classification_MLA_orange.ipynb",
   "provenance": []
  },
  "kernelspec": {
   "display_name": "Python 3",
   "language": "python",
   "name": "python3"
  },
  "language_info": {
   "codemirror_mode": {
    "name": "ipython",
    "version": 3
   },
   "file_extension": ".py",
   "mimetype": "text/x-python",
   "name": "python",
   "nbconvert_exporter": "python",
   "pygments_lexer": "ipython3",
   "version": "3.7.7"
  },
  "toc": {
   "base_numbering": 1,
   "nav_menu": {},
   "number_sections": true,
   "sideBar": true,
   "skip_h1_title": false,
   "title_cell": "Table of Contents",
   "title_sidebar": "Contents",
   "toc_cell": false,
   "toc_position": {},
   "toc_section_display": true,
   "toc_window_display": false
  }
 },
 "nbformat": 4,
 "nbformat_minor": 1
}
